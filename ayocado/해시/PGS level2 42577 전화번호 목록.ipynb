{
 "cells": [
  {
   "cell_type": "markdown",
   "id": "75d255fc-7e0d-41d6-9e4d-d855fba0bcf8",
   "metadata": {},
   "source": [
    "#### https://school.programmers.co.kr/learn/courses/30/lessons/42577\n",
    "\n",
    "### 문제 설명\n",
    "전화번호부에 적힌 전화번호 중, 한 번호가 다른 번호의 접두어인 경우가 있는지 확인하려 합니다.\n",
    "전화번호가 다음과 같을 경우, 구조대 전화번호는 영석이의 전화번호의 접두사입니다.\n",
    "\n",
    "- 구조대 : 119\n",
    "- 박준영 : 97 674 223\n",
    "- 지영석 : 11 9552 4421\n",
    "전화번호부에 적힌 전화번호를 담은 배열 phone_book 이 solution 함수의 매개변수로 주어질 때, 어떤 번호가 다른 번호의 접두어인 경우가 있으면 false를 그렇지 않으면 true를 return 하도록 solution 함수를 작성해주세요.\n",
    "\n",
    "### 제한 사항\n",
    "- phone_book의 길이는 1 이상 1,000,000 이하입니다.\n",
    "    - 각 전화번호의 길이는 1 이상 20 이하입니다.\n",
    "    - 같은 전화번호가 중복해서 들어있지 않습니다."
   ]
  },
  {
   "cell_type": "code",
   "execution_count": 1,
   "id": "a6702f3f-2f06-4277-bfdd-ea53749a1801",
   "metadata": {},
   "outputs": [],
   "source": [
    "# 나의 풀이\n",
    "\n",
    "def solution(phone_book):\n",
    "    phone_book.sort()\n",
    "    \n",
    "    for i in range(len(phone_book)-1):\n",
    "        if len(phone_book[i]) < len(phone_book[i+1]):\n",
    "            if phone_book[i] == phone_book[i+1][0:len(phone_book[i])]:\n",
    "                return False\n",
    "    return True"
   ]
  },
  {
   "cell_type": "code",
   "execution_count": 2,
   "id": "ce9bd22a-d417-435e-9c29-bf3044ea841d",
   "metadata": {},
   "outputs": [],
   "source": [
    "# zip, startswith 이용한 풀이\n",
    "# startswith : p2가 p1으로 시작되면 True 반환\n",
    "\n",
    "def solution(phoneBook):\n",
    "    phoneBook = sorted(phoneBook)\n",
    "\n",
    "    for p1, p2 in zip(phoneBook, phoneBook[1:]):\n",
    "        if p2.startswith(p1):\n",
    "            return False\n",
    "    return True"
   ]
  },
  {
   "cell_type": "code",
   "execution_count": 3,
   "id": "71f190cd-18a9-40a0-8c4b-631d6a06f450",
   "metadata": {},
   "outputs": [],
   "source": [
    "# 딕셔너리를 이용한 풀이\n",
    "\n",
    "def solution(phone_book):\n",
    "    answer = True\n",
    "    hash_map = {}\n",
    "    \n",
    "    for phone_number in phone_book:\n",
    "        hash_map[phone_number] = 1\n",
    "        \n",
    "    for phone_number in phone_book:\n",
    "        temp = \"\"\n",
    "        for number in phone_number:\n",
    "            temp += number\n",
    "            if temp in hash_map and temp != phone_number:\n",
    "                answer = False\n",
    "                \n",
    "    return answer"
   ]
  }
 ],
 "metadata": {
  "kernelspec": {
   "display_name": "Python 3 (ipykernel)",
   "language": "python",
   "name": "python3"
  },
  "language_info": {
   "codemirror_mode": {
    "name": "ipython",
    "version": 3
   },
   "file_extension": ".py",
   "mimetype": "text/x-python",
   "name": "python",
   "nbconvert_exporter": "python",
   "pygments_lexer": "ipython3",
   "version": "3.9.13"
  }
 },
 "nbformat": 4,
 "nbformat_minor": 5
}
