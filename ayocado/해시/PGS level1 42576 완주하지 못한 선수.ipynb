{
 "cells": [
  {
   "cell_type": "markdown",
   "id": "6de8f062-9027-461e-ba16-5c5d91708454",
   "metadata": {},
   "source": [
    "#### https://school.programmers.co.kr/learn/courses/30/lessons/42576\n",
    "\n",
    "### 문제 설명\n",
    "수많은 마라톤 선수들이 마라톤에 참여하였습니다. 단 한 명의 선수를 제외하고는 모든 선수가 마라톤을 완주하였습니다.\n",
    "\n",
    "마라톤에 참여한 선수들의 이름이 담긴 배열 participant와 완주한 선수들의 이름이 담긴 배열 completion이 주어질 때, 완주하지 못한 선수의 이름을 return 하도록 solution 함수를 작성해주세요.\n",
    "\n",
    "### 제한 사항\n",
    "- 마라톤 경기에 참여한 선수의 수는 1명 이상 100,000명 이하입니다.\n",
    "- completion의 길이는 participant의 길이보다 1 작습니다.\n",
    "- 참가자의 이름은 1개 이상 20개 이하의 알파벳 소문자로 이루어져 있습니다.\n",
    "- 참가자 중에는 동명이인이 있을 수 있습니다."
   ]
  },
  {
   "cell_type": "code",
   "execution_count": 1,
   "id": "17950ed8-4754-41b8-b487-ad8d6ee2632c",
   "metadata": {},
   "outputs": [],
   "source": [
    "# 나의 풀이\n",
    "\n",
    "def solution(participant, completion):\n",
    "    answer = ''\n",
    "    participant_dict = {}\n",
    "\n",
    "    for i in participant:\n",
    "        if i not in participant_dict:\n",
    "            participant_dict[i] = 1\n",
    "        else:\n",
    "            participant_dict[i] += 1\n",
    "            \n",
    "    for i in completion:\n",
    "        participant_dict[i] -= 1\n",
    "        \n",
    "    for i in participant_dict:\n",
    "        if participant_dict[i] == 1:\n",
    "            return i"
   ]
  },
  {
   "cell_type": "code",
   "execution_count": 2,
   "id": "cc83e08f-cc1a-4b96-a85b-57a448bd6cd4",
   "metadata": {},
   "outputs": [],
   "source": [
    "# collections 모듈 사용한 풀이\n",
    "# collections.Counter : 요소는 딕셔너리의 키로 저장되고 갯수는 딕셔너리 값으로 반환\n",
    "\n",
    "import collections\n",
    "\n",
    "def solution(participant, completion):\n",
    "    answer = collections.Counter(participant) - collections.Counter(completion)\n",
    "    return list(answer.keys())[0]"
   ]
  },
  {
   "cell_type": "code",
   "execution_count": 3,
   "id": "e7ce3ac8-53fd-487b-b34c-ad871d8198ef",
   "metadata": {},
   "outputs": [],
   "source": [
    "# 해시 함수를 이용한 풀이\n",
    "\n",
    "def solution(participant, completion):\n",
    "    answer = ''\n",
    "    temp = 0\n",
    "    dic = {}\n",
    "    \n",
    "    for part in participant:\n",
    "        dic[hash(part)] = part\n",
    "        temp += int(hash(part))\n",
    "        \n",
    "    for com in completion:\n",
    "        temp -= hash(com)\n",
    "    answer = dic[temp]\n",
    "\n",
    "    return answer"
   ]
  }
 ],
 "metadata": {
  "kernelspec": {
   "display_name": "Python 3 (ipykernel)",
   "language": "python",
   "name": "python3"
  },
  "language_info": {
   "codemirror_mode": {
    "name": "ipython",
    "version": 3
   },
   "file_extension": ".py",
   "mimetype": "text/x-python",
   "name": "python",
   "nbconvert_exporter": "python",
   "pygments_lexer": "ipython3",
   "version": "3.9.13"
  }
 },
 "nbformat": 4,
 "nbformat_minor": 5
}
